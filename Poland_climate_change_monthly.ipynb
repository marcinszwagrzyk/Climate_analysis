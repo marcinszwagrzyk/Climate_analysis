{
 "cells": [
  {
   "cell_type": "code",
   "execution_count": 1,
   "metadata": {},
   "outputs": [],
   "source": [
    "#-*- coding: windows-1250 -*-\n",
    "import os\n",
    "import glob\n",
    "import pandas as pd\n",
    "\n",
    "extension = 'csv'\n",
    "os.chdir(r'c:\\GIS\\projekty\\git_mirror\\IMGW\\dane_all')\n",
    "result = glob.glob('*.{}'.format(extension))\n",
    "\n",
    "lista_df =[]\n",
    "for i in result:\n",
    "    if \"k_m_d\" in str(i):\n",
    "        df = pd.read_csv(i, header = None, encoding= 'windows-1250')\n",
    "        lista_df.append(df)\n",
    "        \n",
    "df_polaczone = pd.concat(lista_df)\n",
    "df_polaczone = df_polaczone.rename(columns={\n",
    "    0: \"kod_stacji\",1: \"nazwa_stacji\",2: \"year\",3: \"month\", 4: \"t_max\",5: \"status_tmax\",\n",
    "    6: \"sr_t_max\",  7: \"status_sr_tmax\",8: \"t_min\",9: \"status_tmin\",10: \"sr_t_min\",\n",
    "    11: \"status_sr_min\", 12: \"sr_temp_mies\",\n",
    "   13: \"stat_stm\",14: \"min_temp_grunt\",15: \"stat_tmng\",16: \"opady_mies_srenia\", \n",
    "    17: \"status_opady_mies_srenia\",\n",
    "   18: \"opady_max_doba\",19: \"st_opady_max_doba\",20: \"pierw_dzien_opad_maks\", \n",
    "    21: \"stat_opmx\",\n",
    "   22: \"pierw_dzien_opad_mak\",23: \"ostat_dzien_opad_maks\",24: \"maks_pokrywy\",\n",
    "    25: \"stat_pokrywy\",\n",
    "  26: \"liczba_dni_pokrywa\",27: \"liczba_dni_deszcz\", 28: \"liczba_dni_snieg\"})"
   ]
  },
  {
   "cell_type": "markdown",
   "metadata": {},
   "source": [
    "# exrtacting interesting fields & date"
   ]
  },
  {
   "cell_type": "code",
   "execution_count": 2,
   "metadata": {},
   "outputs": [],
   "source": [
    "#-*- coding: windows-1250 -*-\n",
    "df_polaczone = df_polaczone[['nazwa_stacji', 'kod_stacji', 'year', 'month', 'sr_temp_mies']]\n",
    "\n",
    "df_polaczone['data'] = df_polaczone['year'].astype(str) + \"-\" +df_polaczone['month'].astype(str) + \"-01\"\n",
    "df_polaczone['data'] = pd.DatetimeIndex(df_polaczone['data'])\n",
    "df_polaczone.set_index('data', inplace=True)\n",
    "\n",
    "lista_stacji = df_polaczone.kod_stacji.unique()\n",
    "lista_months = df_polaczone.month.unique()"
   ]
  },
  {
   "cell_type": "markdown",
   "metadata": {},
   "source": [
    "# extracting month mean temp, for each station, for average reference period of 1961–1990"
   ]
  },
  {
   "cell_type": "code",
   "execution_count": 23,
   "metadata": {},
   "outputs": [
    {
     "name": "stderr",
     "output_type": "stream",
     "text": [
      "C:\\Users\\marci\\Anaconda2\\lib\\site-packages\\ipykernel_launcher.py:10: SettingWithCopyWarning: \n",
      "A value is trying to be set on a copy of a slice from a DataFrame.\n",
      "Try using .loc[row_indexer,col_indexer] = value instead\n",
      "\n",
      "See the caveats in the documentation: http://pandas.pydata.org/pandas-docs/stable/indexing.html#indexing-view-versus-copy\n",
      "  # Remove the CWD from sys.path while we load stuff.\n",
      "C:\\Users\\marci\\Anaconda2\\lib\\site-packages\\ipykernel_launcher.py:11: SettingWithCopyWarning: \n",
      "A value is trying to be set on a copy of a slice from a DataFrame.\n",
      "Try using .loc[row_indexer,col_indexer] = value instead\n",
      "\n",
      "See the caveats in the documentation: http://pandas.pydata.org/pandas-docs/stable/indexing.html#indexing-view-versus-copy\n",
      "  # This is added back by InteractiveShellApp.init_path()\n"
     ]
    }
   ],
   "source": [
    "# select the refference period\n",
    "df_polaczone_avg = df_polaczone[(df_polaczone['year'] >= 1961)]\n",
    "df_polaczone_avg = df_polaczone_avg[(df_polaczone_avg['year'] <= 1990)]\n",
    "\n",
    "lista_df_avg =[]\n",
    "for month in lista_months:\n",
    "    df_polaczone_mies_avg = df_polaczone_avg.loc[df_polaczone_avg['month'] == month]  # df for month within ref period    \n",
    "    for stacja in lista_stacji:\n",
    "        df_stacja_avg_ref = df_polaczone_mies_avg.loc[df_polaczone_mies_avg['kod_stacji'] == stacja] \n",
    "        df_stacja_avg_ref['avg_60_90'] = df_stacja_avg_ref.sr_temp_mies.mean() # mean temp for station, for month, ref period\n",
    "        df_stacja_avg_ref['key'] = df_stacja_avg_ref['kod_stacji'].astype(str) + df_stacja_avg_ref['month'].astype(str) # key for join\n",
    "        df_stacja_avg_ref= df_stacja_avg_ref[['key', 'avg_60_90']] \n",
    "        lista_df_avg.append(df_stacja_avg_ref)\n",
    "    \n",
    "df_avg_stacje = pd.concat(lista_df_avg)\n",
    "df_avg_stacje = df_avg_stacje.drop_duplicates(subset=['key'])"
   ]
  },
  {
   "cell_type": "markdown",
   "metadata": {},
   "source": [
    "# join main table with the mean temp. from the avarage refference period, for each station"
   ]
  },
  {
   "cell_type": "code",
   "execution_count": 61,
   "metadata": {},
   "outputs": [],
   "source": [
    "df_polaczone['key'] = df_polaczone['kod_stacji'].astype(str) + df_polaczone['month'].astype(str) # key for join\n",
    "df_polaczone_avg = pd.merge(df_polaczone, df_avg_stacje, on='key')\n",
    "df_polaczone_avg['anomalia'] = df_polaczone_avg['sr_temp_mies'] - df_polaczone_avg['avg_60_90']  # anomaly for each month-station"
   ]
  },
  {
   "cell_type": "markdown",
   "metadata": {},
   "source": [
    "# Exporting GDF for each month for each year to seperate shapefile"
   ]
  },
  {
   "cell_type": "code",
   "execution_count": 60,
   "metadata": {
    "scrolled": true
   },
   "outputs": [],
   "source": [
    "from shapely.geometry import Point\n",
    "import geopandas as gpd\n",
    "\n",
    "lista_lat = range(1956,2020)\n",
    "latacz = gpd.read_file(r'c:\\Users\\marci\\git\\iMGW\\shp\\latacz.shp') # patch shapefile  \n",
    "df_xy = pd.read_csv(r'c:\\GIS\\projekty\\git_mirror\\IMGW\\csv\\stacje_located.csv') # import x,y locations for stations\n",
    "                                                           \n",
    "for month in lista_months:\n",
    "    # create folder\n",
    "    folder = os.path.join(r'c:\\Users\\marci\\git\\iMGW\\output', str(month))\n",
    "    if not os.path.exists(folder):\n",
    "        os.makedirs(folder)\n",
    "    df_mies = df_polaczone_avg.loc[df_polaczone_avg['month'] == month]\n",
    "    for rok in lista_lat:    \n",
    "        rok_format = str(int(rok))\n",
    "        df_rok_mies = df_mies.loc[df_mies['year'] == rok]  \n",
    "    \n",
    "        # importig coordinates for stations\n",
    "        result = pd.merge(df_rok_mies,\n",
    "                         df_xy[['kod_stacji', 'latitude', 'longitude']],\n",
    "                         on='kod_stacji')\n",
    "\n",
    "        gdf = gpd.GeoDataFrame(\n",
    "            result, geometry=gpd.points_from_xy(x=result.longitude, y=result.latitude),\n",
    "            crs={'init':'epsg:4326'})\n",
    "\n",
    "        # reprojection to PUWG1992\n",
    "        gdf = gdf.to_crs({'init': 'epsg:2180'})\n",
    "        \n",
    "        liczba = gdf.shape[0]\n",
    "        srednia = gdf.anomalia.mean()\n",
    "        latacz['anomalia'] = srednia\n",
    "        \n",
    "        gdf_rok_mies_final = pd.concat([gdf, latacz], sort=True)\n",
    "        filename_shp = os.path.join(folder,  str(rok) + \".shp\") \n",
    "        gdf_rok_mies_final.to_file(driver = 'ESRI Shapefile', filename = filename_shp)"
   ]
  }
 ],
 "metadata": {
  "kernelspec": {
   "display_name": "Python 2",
   "language": "python",
   "name": "python2"
  },
  "language_info": {
   "codemirror_mode": {
    "name": "ipython",
    "version": 2
   },
   "file_extension": ".py",
   "mimetype": "text/x-python",
   "name": "python",
   "nbconvert_exporter": "python",
   "pygments_lexer": "ipython2",
   "version": "2.7.14"
  }
 },
 "nbformat": 4,
 "nbformat_minor": 2
}
